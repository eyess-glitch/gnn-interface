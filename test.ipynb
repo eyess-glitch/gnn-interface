{
 "cells": [
  {
   "cell_type": "code",
   "execution_count": 1,
   "metadata": {},
   "outputs": [
    {
     "name": "stdout",
     "output_type": "stream",
     "text": [
      "File nodes.csv salvato con successo.\n",
      "File edges.csv salvato con successo.\n"
     ]
    }
   ],
   "source": [
    "import pandas as pd\n",
    "import numpy as np\n",
    "\n",
    "# Genera il file nodes.csv con 100 nodi\n",
    "np.random.seed(42)  # Per riproducibilità\n",
    "num_nodes = 100\n",
    "\n",
    "nodes_data = {\n",
    "    \"id\": np.arange(1, num_nodes + 1),  # ID da 1 a 100\n",
    "    \"feature1\": np.random.rand(num_nodes),\n",
    "    \"feature2\": np.random.rand(num_nodes),\n",
    "    \"feature3\": np.random.rand(num_nodes),\n",
    "    \"feature4\": np.random.rand(num_nodes),\n",
    "    \"feature5\": np.random.rand(num_nodes),\n",
    "    \"label\": np.random.randint(0, 2, size=num_nodes),  # Label tra 0 e 1\n",
    "}\n",
    "\n",
    "nodes_df = pd.DataFrame(nodes_data)\n",
    "nodes_csv_path = \"nodes.csv\"\n",
    "nodes_df.to_csv(nodes_csv_path, index=False)\n",
    "print(f\"File {nodes_csv_path} salvato con successo.\")\n",
    "\n",
    "# Genera il file edges.csv con archi casuali\n",
    "num_edges = 150  # Numero di archi\n",
    "edges_data = {\n",
    "    \"source\": np.random.choice(nodes_data[\"id\"], num_edges),\n",
    "    \"target\": np.random.choice(nodes_data[\"id\"], num_edges),\n",
    "}\n",
    "\n",
    "edges_df = pd.DataFrame(edges_data)\n",
    "edges_csv_path = \"edges.csv\"\n",
    "edges_df.to_csv(edges_csv_path, index=False)\n",
    "print(f\"File {edges_csv_path} salvato con successo.\")\n"
   ]
  },
  {
   "cell_type": "code",
   "execution_count": 4,
   "metadata": {},
   "outputs": [
    {
     "name": "stdout",
     "output_type": "stream",
     "text": [
      "Edge file saved at: links_example.csv\n",
      "Node file saved at: nodes_example_with_labels.csv\n"
     ]
    }
   ],
   "source": [
    "import pandas as pd\n",
    "import torch\n",
    "\n",
    "# Parametri\n",
    "num_nodes = 6000  # Numero di nodi (righe)\n",
    "num_features = 5  # Numero di feature per nodo\n",
    "num_edges = 10000  # Numero di collegamenti\n",
    "\n",
    "# Generiamo i collegamenti casuali tra i nodi\n",
    "edges = []\n",
    "\n",
    "for _ in range(num_edges):\n",
    "    source = torch.randint(0, num_nodes, (1,)).item()\n",
    "    target = torch.randint(0, num_nodes, (1,)).item()\n",
    "    while source == target:  # Evitiamo i loop (nodo collegato a sé stesso)\n",
    "        target = torch.randint(0, num_nodes, (1,)).item()\n",
    "    edges.append([source, target])\n",
    "\n",
    "# Creiamo un DataFrame per gli edge\n",
    "edge_df = pd.DataFrame(edges, columns=[\"source\", \"target\"])\n",
    "\n",
    "# Generiamo le feature per i nodi\n",
    "node_features = torch.rand((num_nodes, num_features))\n",
    "\n",
    "# Aggiungiamo la colonna della label come ultima colonna (etichetta casuale)\n",
    "labels = torch.randint(0, 2, (num_nodes, 1))  # 0 o 1 (classificazione binaria)\n",
    "node_features_with_labels = torch.cat((node_features, labels), dim=1)\n",
    "\n",
    "# Creiamo un DataFrame per le feature dei nodi\n",
    "node_df = pd.DataFrame(node_features_with_labels.numpy(), columns=[f\"feature_{i}\" for i in range(num_features)] + [\"label\"])\n",
    "\n",
    "# Salviamo i dati come CSV\n",
    "edge_file = \"links_example.csv\"\n",
    "node_file = \"nodes_example_with_labels.csv\"\n",
    "\n",
    "edge_df.to_csv(edge_file, index=False)\n",
    "node_df.to_csv(node_file, index=False)\n",
    "\n",
    "# Print file paths\n",
    "print(f\"Edge file saved at: {edge_file}\")\n",
    "print(f\"Node file saved at: {node_file}\")\n"
   ]
  }
 ],
 "metadata": {
  "kernelspec": {
   "display_name": "Python 3",
   "language": "python",
   "name": "python3"
  },
  "language_info": {
   "codemirror_mode": {
    "name": "ipython",
    "version": 3
   },
   "file_extension": ".py",
   "mimetype": "text/x-python",
   "name": "python",
   "nbconvert_exporter": "python",
   "pygments_lexer": "ipython3",
   "version": "3.9.20"
  }
 },
 "nbformat": 4,
 "nbformat_minor": 2
}
